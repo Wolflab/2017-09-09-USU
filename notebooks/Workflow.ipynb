{
 "cells": [
  {
   "cell_type": "code",
   "execution_count": 1,
   "metadata": {
    "collapsed": true
   },
   "outputs": [],
   "source": [
    "import pandas as pd\n",
    "surveys_df = pd.read_csv('surveys.csv')"
   ]
  },
  {
   "cell_type": "code",
   "execution_count": 3,
   "metadata": {},
   "outputs": [
    {
     "name": "stdout",
     "output_type": "stream",
     "text": [
      "frogs\n",
      "toads\n",
      "bear\n",
      "mouse\n"
     ]
    }
   ],
   "source": [
    "animals = ['frogs','toads','bear','mouse']\n",
    "for this_animal in animals:\n",
    "    print(this_animal)"
   ]
  },
  {
   "cell_type": "code",
   "execution_count": 20,
   "metadata": {},
   "outputs": [],
   "source": [
    "import os\n",
    "#os.mkdir('data')"
   ]
  },
  {
   "cell_type": "code",
   "execution_count": 55,
   "metadata": {
    "collapsed": true
   },
   "outputs": [],
   "source": [
    "#Write one year of csv data\n",
    "def year_csv_data_writer(year, df, data_folder='data'):\n",
    "    this_year_data = df[df.year == year]\n",
    "    this_year_data = this_year_data.dropna(axis=0)\n",
    "    \n",
    "    \n",
    "    \n",
    "    data_filename = data_folder + '/yearly_data_' + str(year) + '.csv'\n",
    "    \n",
    "    this_year_data.to_csv(data_filename, index=False)\n",
    "    \n",
    "# os.makedirs('data/rodents/plot_1')\n",
    "def yearly_range_data_writer(start_year, end_year, df, data_folder='data'):\n",
    "    yearly_list = list(range(start_year,end_year+1))\n",
    "    for year in yearly_list:\n",
    "        if year not in df.year.unique().tolist():\n",
    "            print('Warning: year not available')\n",
    "        else:\n",
    "            year_csv_data_writer(year, df, data_folder = data_folder)\n",
    "    \n"
   ]
  },
  {
   "cell_type": "code",
   "execution_count": 47,
   "metadata": {},
   "outputs": [
    {
     "name": "stdout",
     "output_type": "stream",
     "text": [
      "Warning: year not available\n",
      "Warning: year not available\n",
      "Warning: year not available\n",
      "Warning: year not available\n",
      "Warning: year not available\n",
      "Warning: year not available\n",
      "Warning: year not available\n"
     ]
    }
   ],
   "source": [
    "#os.mkdir('new_data')\n",
    "\n",
    "yearly_range_data_writer(1970, 1989, surveys_df, data_folder='new_data')   \n",
    "\n",
    "\n",
    "    \n",
    "\n",
    "    \n",
    "    \n",
    "    \n",
    "    \n",
    "    \n",
    "    \n",
    "    \n",
    "    \n",
    "    \n",
    "    \n",
    "    \n",
    "    \n",
    "    \n",
    "    "
   ]
  },
  {
   "cell_type": "code",
   "execution_count": 53,
   "metadata": {},
   "outputs": [
    {
     "name": "stdout",
     "output_type": "stream",
     "text": [
      "6 is less\n"
     ]
    }
   ],
   "source": [
    "if 6 < 8 or 1 > 4:\n",
    "    print('6 is less')\n",
    "else:\n",
    "    print('statement is false')"
   ]
  },
  {
   "cell_type": "code",
   "execution_count": 49,
   "metadata": {},
   "outputs": [
    {
     "data": {
      "text/plain": [
       "False"
      ]
     },
     "execution_count": 49,
     "metadata": {},
     "output_type": "execute_result"
    }
   ],
   "source": [
    "6 > 8"
   ]
  }
 ],
 "metadata": {
  "kernelspec": {
   "display_name": "Python 3",
   "language": "python",
   "name": "python3"
  },
  "language_info": {
   "codemirror_mode": {
    "name": "ipython",
    "version": 3
   },
   "file_extension": ".py",
   "mimetype": "text/x-python",
   "name": "python",
   "nbconvert_exporter": "python",
   "pygments_lexer": "ipython3",
   "version": "3.5.2"
  }
 },
 "nbformat": 4,
 "nbformat_minor": 2
}
